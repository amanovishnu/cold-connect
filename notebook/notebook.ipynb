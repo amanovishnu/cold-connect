{
 "cells": [
  {
   "cell_type": "code",
   "execution_count": 51,
   "metadata": {},
   "outputs": [],
   "source": [
    "import os\n",
    "import pandas as pd\n",
    "import requests\n",
    "from decouple import AutoConfig\n",
    "from langchain_chroma import Chroma\n",
    "from langchain_community.document_loaders import WebBaseLoader\n",
    "from langchain_core.documents import Document\n",
    "from langchain_core.output_parsers import JsonOutputParser, StrOutputParser\n",
    "from langchain_core.prompts import PromptTemplate\n",
    "from langchain_groq import ChatGroq\n",
    "from langchain_huggingface import HuggingFaceEmbeddings"
   ]
  },
  {
   "cell_type": "code",
   "execution_count": 52,
   "metadata": {},
   "outputs": [],
   "source": [
    "config = AutoConfig(search_path=\"../.env\")\n",
    "\n",
    "GROQ_API_KEY = config(\"GROQ_API_KEY\")\n",
    "# LANGCHAIN_TRACING_V2 = config(\"LANGCHAIN_TRACING_V2\")\n",
    "# LANGCHAIN_ENDPOINT = config(\"LANGCHAIN_ENDPOINT\")\n",
    "# LANGCHAIN_PROJECT = config(\"LANGCHAIN_PROJECT\")\n",
    "# lANGCHAIN_API_KEY = config(\"LANGCHAIN_API_KEY\")"
   ]
  },
  {
   "cell_type": "code",
   "execution_count": 53,
   "metadata": {},
   "outputs": [
    {
     "name": "stdout",
     "output_type": "stream",
     "text": [
      "job_url='https://www.amazon.jobs/en/jobs/2831807/sde'\n"
     ]
    }
   ],
   "source": [
    "job_url = input(\"Paste the URL here: \")\n",
    "print(f\"{job_url=}\")"
   ]
  },
  {
   "cell_type": "code",
   "execution_count": 54,
   "metadata": {},
   "outputs": [],
   "source": [
    "web_data = WebBaseLoader(web_path=job_url).load()\n",
    "llm = ChatGroq(model=\"llama-3.1-70b-versatile\", api_key=GROQ_API_KEY, temperature=0.5)\n",
    "embeddings = HuggingFaceEmbeddings(model_name=\"all-MiniLM-L6-v2\")\n",
    "json_parser = JsonOutputParser()\n",
    "str_parser = StrOutputParser()"
   ]
  },
  {
   "cell_type": "code",
   "execution_count": 55,
   "metadata": {},
   "outputs": [
    {
     "data": {
      "text/plain": [
       "HuggingFaceEmbeddings(model_name='all-MiniLM-L6-v2', cache_folder=None, model_kwargs={}, encode_kwargs={}, multi_process=False, show_progress=False)"
      ]
     },
     "execution_count": 55,
     "metadata": {},
     "output_type": "execute_result"
    }
   ],
   "source": [
    "embeddings"
   ]
  },
  {
   "cell_type": "code",
   "execution_count": 56,
   "metadata": {},
   "outputs": [],
   "source": [
    "scrape_prompt = PromptTemplate.from_template(\n",
    "    \"\"\"\n",
    "        ### SCRAPED TEXT FROM WEBSITE:\n",
    "        {page_data}\n",
    "        ### INSTRUCTION:\n",
    "        THe Scraped text is from the career page of a website.\n",
    "        your job is to extract the job postings and return them in JSON format containing\n",
    "        the following keys: `role`, `experience`, `skills` and `description`.\n",
    "        Return only the valid JSON.\n",
    "        ### VALID JSON (NO PREAMBLE):\n",
    "    \"\"\"\n",
    ")\n",
    "\n",
    "email_prompt = PromptTemplate.from_template(\n",
    "    \"\"\"\n",
    "    ### JOB DESCRIPTION:\n",
    "    {job_description}\n",
    "    ### INSTRUCTION:\n",
    "    You are Madhu, a business development executive at Mocha. \n",
    "    Mocha is an AI & Software Consulting company dedicated to facilitating\n",
    "    the seamless integration of business processes through automated tools. \n",
    "    Over our experience, we have empowered numerous enterprises with tailored solutions, fostering scalability, \n",
    "    process optimization, cost reduction, and heightened overall efficiency. \n",
    "    Your job is to write a cold email to the client regarding the job mentioned above describing \n",
    "    the capability of Mocha in fulfilling their needs.\n",
    "    Also add the most relevant ones from the following links to showcase Mocha's portfolio: {link_list}\n",
    "    Remember you are Madhu, BDE at Mocha. \n",
    "    Do not provide a preamble.\n",
    "    ### EMAIL (NO PREAMBLE):\n",
    "    \"\"\"\n",
    ")"
   ]
  },
  {
   "cell_type": "code",
   "execution_count": 57,
   "metadata": {},
   "outputs": [],
   "source": [
    "scrape_chain = scrape_prompt | llm | json_parser\n",
    "email_chain = email_prompt | llm | str_parser"
   ]
  },
  {
   "cell_type": "code",
   "execution_count": 58,
   "metadata": {},
   "outputs": [
    {
     "name": "stdout",
     "output_type": "stream",
     "text": [
      "\n",
      "        ### SCRAPED TEXT FROM WEBSITE:\n",
      "        SDE - Job ID: 2831807 | Amazon.jobs\n",
      "Skip to main contentHomeTeamsLocationsJob categoriesMy careerMy applicationsMy profileAccount securitySettingsSign outResourcesDisability accommodationsBenefitsDiversity, equity, and inclusionInterview tipsLeadership principlesWorking at AmazonFAQ×SDEJob ID: 2831807 | ADCI - KarnatakaApply nowDESCRIPTIONABOUT THIS ROLEAndroid Software Development Engineers build user interfaces, expand and improve deployment, testing and work with new technologies powered by Amazon.This is 12 months contract role with Amazon , Bangalore.ABOUT THE TEAMWe own the end to end shopping experience for the mobile app which includes web, iOS & Android, content security & digital rights management at a massive scale.ABOUT YOUYou’re a problem solver. A fast-paced environment fuels your creativity – not to mention your team who inspire you.Through plenty of practice you’ve mastered how to translate even the most complex ideas in a simple and digestible way. While you’ve dabbled in a few programming languages, your heart is always with Kotlin or Java. But you’re adaptable, enterprising, and ready to take ownership of your next project.As a Software Development Engineer, you will…* Own key components within our platform. \"\"Owning\"\" means envisioning, designing, creating, building, and supporting* Design, develop and maintain our Android mobile applications* Work with team members to investigate design approaches, prototype technology and evaluate technical feasibility* Lead the way - \"\"Lead\"\" means staying up to date with tools, trends, technologies, and frameworks both industry-wide and within Amazon, and sharing that knowledge in a meaningful way with the community* Partner with product management to imagine, design, develop, test, and launch software that invigorates our community and inspires our peers* Manage individual project priorities, deadlines and deliverables* Adopt best practices in software engineering: design, testing, version control, documentation, build, deployment, and operations* Lead architecture and design of features, from conception to launch* Help to improve engineering processes and tools to increase team effectiveness* Be part of an agile development process to deliver high-quality software* Work with cross-functional, geographically diverse development teams through design, delivery and supportBASIC QUALIFICATIONS* Bachelor's Degree in Computer Science, Computer Engineering or related field* Experience programming with at least one software programming language* Strong fundamental software engineering skills: data structures and algorithms* Experience contributing to the architecture and design (architecture, design patterns, reliability and scaling) of new and current systems* Experience in professional, non-internship software development* Experience programming with at least one modern language such as Java, C++, or C# including object-oriented design* Professional experience with mobile development in Android* 2+ years of experience in designing and developing Android Applications using Kotlin, Java, the Android SDK, and common Android tools and platforms like Compose, Jetpack NavigationPREFERRED QUALIFICATIONS* Experience in React, CSS, VueJS, HTML5* Experience with object-oriented development, multithreading, and data structures* Experience contributing to the architecture and design (architecture, design patterns, reliability and scaling) of new and current systems* Experience in professional, non-internship software development* Experience programming with at least one modern language such as Java, C++, or C# including object-oriented design* Great communication skills—ability to think creatively and adapt the message to the audience* Able to provide information to technical and non-technical stakeholders alike and guide them to confidently informed decisionsBASIC QUALIFICATIONS- 1+ years of non-internship professional software development experience- Experience programming with at least one software programming languagePREFERRED QUALIFICATIONS- Bachelor's degree in computer science or equivalentOur inclusive culture empowers Amazonians to deliver the best results for our customers. If you have a disability and need a workplace accommodation or adjustment during the application and hiring process, including support for the interview or onboarding process, please visit https://amazon.jobs/content/en/how-we-hire/accommodations for more information. If the country/region you’re applying in isn’t listed, please contact your Recruiting Partner.Job detailsIND, KA, BengaluruSoftware DevelopmentShare this jobJOIN US ONFind CareersJob CategoriesTeamsLocationsUS and EU Military recruitingWarehouse and Hourly JobsWorking At AmazonCultureBenefitsAmazon NewsletterDiversity at AmazonOur leadership principlesHelpFAQInterview tipsReview application statusDisability accommodationsEU background checksAmazon is committed to a diverse and inclusive workplace. Amazon is an equal opportunity employer and does not discriminate on the basis of race, national origin, gender, gender identity, sexual orientation, protected veteran status, disability, age, or other legally protected status.Privacy and DataImpressum© 1996-2024, Amazon.com, Inc. or its affiliates\n",
      "        ### INSTRUCTION:\n",
      "        THe Scraped text is from the career page of a website.\n",
      "        your job is to extract the job postings and return them in JSON format containing\n",
      "        the following keys: `role`, `experience`, `skills` and `description`.\n",
      "        Return only the valid JSON.\n",
      "        ### VALID JSON (NO PREAMBLE):\n",
      "    \n"
     ]
    }
   ],
   "source": [
    "page_data = web_data.pop().page_content\n",
    "print(scrape_prompt.format(**{\"page_data\":page_data}))"
   ]
  },
  {
   "cell_type": "code",
   "execution_count": 59,
   "metadata": {},
   "outputs": [
    {
     "name": "stdout",
     "output_type": "stream",
     "text": [
      "{'role': 'Android Software Development Engineer', 'experience': '2+ years of experience in designing and developing Android Applications using Kotlin, Java, the Android SDK, and common Android tools and platforms like Compose, Jetpack Navigation', 'skills': ['Kotlin', 'Java', 'Android SDK', 'Android', 'Compose', 'Jetpack Navigation', 'React', 'CSS', 'VueJS', 'HTML5', 'Object-oriented development', 'Multithreading', 'Data structures'], 'description': 'Android Software Development Engineers build user interfaces, expand and improve deployment, testing and work with new technologies powered by Amazon. This is a 12-month contract role with Amazon, Bangalore.'}\n"
     ]
    }
   ],
   "source": [
    "response = scrape_chain.invoke(input={\"page_data\": page_data})\n",
    "print(response)"
   ]
  },
  {
   "cell_type": "code",
   "execution_count": 60,
   "metadata": {},
   "outputs": [
    {
     "data": {
      "text/html": [
       "<div>\n",
       "<style scoped>\n",
       "    .dataframe tbody tr th:only-of-type {\n",
       "        vertical-align: middle;\n",
       "    }\n",
       "\n",
       "    .dataframe tbody tr th {\n",
       "        vertical-align: top;\n",
       "    }\n",
       "\n",
       "    .dataframe thead th {\n",
       "        text-align: right;\n",
       "    }\n",
       "</style>\n",
       "<table border=\"1\" class=\"dataframe\">\n",
       "  <thead>\n",
       "    <tr style=\"text-align: right;\">\n",
       "      <th></th>\n",
       "      <th>Techstack</th>\n",
       "      <th>Links</th>\n",
       "    </tr>\n",
       "  </thead>\n",
       "  <tbody>\n",
       "    <tr>\n",
       "      <th>0</th>\n",
       "      <td>React, Node.js, MongoDB</td>\n",
       "      <td>https://example.com/react-portfolio</td>\n",
       "    </tr>\n",
       "    <tr>\n",
       "      <th>1</th>\n",
       "      <td>Angular,.NET, SQL Server</td>\n",
       "      <td>https://example.com/angular-portfolio</td>\n",
       "    </tr>\n",
       "    <tr>\n",
       "      <th>2</th>\n",
       "      <td>Vue.js, Ruby on Rails, PostgreSQL</td>\n",
       "      <td>https://example.com/vue-portfolio</td>\n",
       "    </tr>\n",
       "    <tr>\n",
       "      <th>3</th>\n",
       "      <td>Python, Django, MySQL</td>\n",
       "      <td>https://example.com/python-portfolio</td>\n",
       "    </tr>\n",
       "    <tr>\n",
       "      <th>4</th>\n",
       "      <td>Java, Spring Boot, Oracle</td>\n",
       "      <td>https://example.com/java-portfolio</td>\n",
       "    </tr>\n",
       "    <tr>\n",
       "      <th>5</th>\n",
       "      <td>Flutter, Firebase, GraphQL</td>\n",
       "      <td>https://example.com/flutter-portfolio</td>\n",
       "    </tr>\n",
       "    <tr>\n",
       "      <th>6</th>\n",
       "      <td>WordPress, PHP, MySQL</td>\n",
       "      <td>https://example.com/wordpress-portfolio</td>\n",
       "    </tr>\n",
       "    <tr>\n",
       "      <th>7</th>\n",
       "      <td>Magento, PHP, MySQL</td>\n",
       "      <td>https://example.com/magento-portfolio</td>\n",
       "    </tr>\n",
       "    <tr>\n",
       "      <th>8</th>\n",
       "      <td>React Native, Node.js, MongoDB</td>\n",
       "      <td>https://example.com/react-native-portfolio</td>\n",
       "    </tr>\n",
       "    <tr>\n",
       "      <th>9</th>\n",
       "      <td>iOS, Swift, Core Data</td>\n",
       "      <td>https://example.com/ios-portfolio</td>\n",
       "    </tr>\n",
       "    <tr>\n",
       "      <th>10</th>\n",
       "      <td>Android, Java, Room Persistence</td>\n",
       "      <td>https://example.com/android-portfolio</td>\n",
       "    </tr>\n",
       "    <tr>\n",
       "      <th>11</th>\n",
       "      <td>Kotlin, Android, Firebase</td>\n",
       "      <td>https://example.com/kotlin-android-portfolio</td>\n",
       "    </tr>\n",
       "    <tr>\n",
       "      <th>12</th>\n",
       "      <td>Android TV, Kotlin, Android NDK</td>\n",
       "      <td>https://example.com/android-tv-portfolio</td>\n",
       "    </tr>\n",
       "    <tr>\n",
       "      <th>13</th>\n",
       "      <td>iOS, Swift, ARKit</td>\n",
       "      <td>https://example.com/ios-ar-portfolio</td>\n",
       "    </tr>\n",
       "    <tr>\n",
       "      <th>14</th>\n",
       "      <td>Cross-platform, Xamarin, Azure</td>\n",
       "      <td>https://example.com/xamarin-portfolio</td>\n",
       "    </tr>\n",
       "    <tr>\n",
       "      <th>15</th>\n",
       "      <td>Backend, Kotlin, Spring Boot</td>\n",
       "      <td>https://example.com/kotlin-backend-portfolio</td>\n",
       "    </tr>\n",
       "    <tr>\n",
       "      <th>16</th>\n",
       "      <td>Frontend, TypeScript, Angular</td>\n",
       "      <td>https://example.com/typescript-frontend-portfolio</td>\n",
       "    </tr>\n",
       "    <tr>\n",
       "      <th>17</th>\n",
       "      <td>Full-stack, JavaScript, Express.js</td>\n",
       "      <td>https://example.com/full-stack-js-portfolio</td>\n",
       "    </tr>\n",
       "    <tr>\n",
       "      <th>18</th>\n",
       "      <td>Machine Learning, Python, TensorFlow</td>\n",
       "      <td>https://example.com/ml-python-portfolio</td>\n",
       "    </tr>\n",
       "    <tr>\n",
       "      <th>19</th>\n",
       "      <td>DevOps, Jenkins, Docker</td>\n",
       "      <td>https://example.com/devops-portfolio</td>\n",
       "    </tr>\n",
       "  </tbody>\n",
       "</table>\n",
       "</div>"
      ],
      "text/plain": [
       "                               Techstack  \\\n",
       "0                React, Node.js, MongoDB   \n",
       "1               Angular,.NET, SQL Server   \n",
       "2      Vue.js, Ruby on Rails, PostgreSQL   \n",
       "3                  Python, Django, MySQL   \n",
       "4              Java, Spring Boot, Oracle   \n",
       "5             Flutter, Firebase, GraphQL   \n",
       "6                  WordPress, PHP, MySQL   \n",
       "7                    Magento, PHP, MySQL   \n",
       "8         React Native, Node.js, MongoDB   \n",
       "9                  iOS, Swift, Core Data   \n",
       "10       Android, Java, Room Persistence   \n",
       "11             Kotlin, Android, Firebase   \n",
       "12       Android TV, Kotlin, Android NDK   \n",
       "13                     iOS, Swift, ARKit   \n",
       "14        Cross-platform, Xamarin, Azure   \n",
       "15          Backend, Kotlin, Spring Boot   \n",
       "16         Frontend, TypeScript, Angular   \n",
       "17    Full-stack, JavaScript, Express.js   \n",
       "18  Machine Learning, Python, TensorFlow   \n",
       "19               DevOps, Jenkins, Docker   \n",
       "\n",
       "                                                Links  \n",
       "0                 https://example.com/react-portfolio  \n",
       "1               https://example.com/angular-portfolio  \n",
       "2                   https://example.com/vue-portfolio  \n",
       "3                https://example.com/python-portfolio  \n",
       "4                  https://example.com/java-portfolio  \n",
       "5               https://example.com/flutter-portfolio  \n",
       "6             https://example.com/wordpress-portfolio  \n",
       "7               https://example.com/magento-portfolio  \n",
       "8          https://example.com/react-native-portfolio  \n",
       "9                   https://example.com/ios-portfolio  \n",
       "10              https://example.com/android-portfolio  \n",
       "11       https://example.com/kotlin-android-portfolio  \n",
       "12           https://example.com/android-tv-portfolio  \n",
       "13               https://example.com/ios-ar-portfolio  \n",
       "14              https://example.com/xamarin-portfolio  \n",
       "15       https://example.com/kotlin-backend-portfolio  \n",
       "16  https://example.com/typescript-frontend-portfolio  \n",
       "17        https://example.com/full-stack-js-portfolio  \n",
       "18            https://example.com/ml-python-portfolio  \n",
       "19               https://example.com/devops-portfolio  "
      ]
     },
     "metadata": {},
     "output_type": "display_data"
    }
   ],
   "source": [
    "df = pd.read_csv(\"./my_portfolio.csv\")\n",
    "display(df)"
   ]
  },
  {
   "cell_type": "code",
   "execution_count": 61,
   "metadata": {},
   "outputs": [],
   "source": [
    "csv_documents = []\n",
    "for _, row in df.iterrows():\n",
    "    csv_documents.append(Document(page_content=row[\"Techstack\"], metadata={\"source\": row[\"Links\"]}))"
   ]
  },
  {
   "cell_type": "code",
   "execution_count": 62,
   "metadata": {},
   "outputs": [
    {
     "data": {
      "text/plain": [
       "['d4ab3301-be73-425c-bc0d-c2a9b4c00656',\n",
       " '571824cc-5c96-4b05-9b95-8b91493a9d21',\n",
       " '6aa7ab9b-6d1a-4741-9e2d-e4c22b55ff18',\n",
       " 'ea3a9c26-e9f8-4758-a3aa-68bdd8ae939c',\n",
       " '7d959447-4a38-4b70-b332-9e55ada405f0',\n",
       " '163d332b-63aa-403e-83b2-c0f0d96c0eff',\n",
       " '0244e0dd-9811-461b-80b3-0006ed916155',\n",
       " 'c601bf0c-9453-401f-8c9d-8e81009887f9',\n",
       " '536f8e0c-113e-4c5a-bda9-76872030c5b4',\n",
       " 'fd0c1387-ad55-449b-8688-b0290c5a6fbf',\n",
       " 'bd3c7e7b-62f2-4ec4-9f73-187fa2fa2e60',\n",
       " '8d733765-6f86-4983-861b-df3b569a891e',\n",
       " '36334e88-b15a-4571-994a-e30956b6bbde',\n",
       " 'f3f05485-19a0-4e75-afd0-1802c396b6c2',\n",
       " 'a806075e-0b5e-403c-a19d-6cab0611b644',\n",
       " 'a726a50d-a46c-4982-8e97-aa752674460f',\n",
       " '1cd3a0ad-20b1-4134-89b6-a9e8a7886e68',\n",
       " 'f42002f1-8135-4de8-9089-1fb4784ae6c6',\n",
       " '5fd5b11a-ac80-4940-b302-33d01c6bbe74',\n",
       " '161383e0-c35f-417d-9644-5d133b3bbbc1']"
      ]
     },
     "execution_count": 62,
     "metadata": {},
     "output_type": "execute_result"
    }
   ],
   "source": [
    "vector_store = Chroma(collection_name=\"portfolio_collection\", embedding_function=embeddings)\n",
    "vector_store.add_documents(csv_documents)"
   ]
  },
  {
   "cell_type": "code",
   "execution_count": 63,
   "metadata": {},
   "outputs": [
    {
     "data": {
      "text/plain": [
       "['Kotlin',\n",
       " 'Java',\n",
       " 'Android SDK',\n",
       " 'Android',\n",
       " 'Compose',\n",
       " 'Jetpack Navigation',\n",
       " 'React',\n",
       " 'CSS',\n",
       " 'VueJS',\n",
       " 'HTML5',\n",
       " 'Object-oriented development',\n",
       " 'Multithreading',\n",
       " 'Data structures']"
      ]
     },
     "execution_count": 63,
     "metadata": {},
     "output_type": "execute_result"
    }
   ],
   "source": [
    "response['skills']"
   ]
  },
  {
   "cell_type": "code",
   "execution_count": 64,
   "metadata": {},
   "outputs": [
    {
     "data": {
      "text/plain": [
       "['https://example.com/kotlin-android-portfolio',\n",
       " 'https://example.com/java-portfolio',\n",
       " 'https://example.com/android-tv-portfolio',\n",
       " 'https://example.com/android-tv-portfolio',\n",
       " 'https://example.com/full-stack-js-portfolio',\n",
       " 'https://example.com/ios-ar-portfolio',\n",
       " 'https://example.com/react-portfolio',\n",
       " 'https://example.com/wordpress-portfolio',\n",
       " 'https://example.com/vue-portfolio',\n",
       " 'https://example.com/full-stack-js-portfolio',\n",
       " 'https://example.com/java-portfolio',\n",
       " 'https://example.com/ml-python-portfolio',\n",
       " 'https://example.com/ios-portfolio']"
      ]
     },
     "execution_count": 64,
     "metadata": {},
     "output_type": "execute_result"
    }
   ],
   "source": [
    "relevant_portfolios = []\n",
    "for skill in response.get('skills'):\n",
    "    relevant_portfolios.append(vector_store.similarity_search(skill, k=1)[0].metadata['source'])\n",
    "relevant_portfolios"
   ]
  },
  {
   "cell_type": "code",
   "execution_count": 65,
   "metadata": {},
   "outputs": [
    {
     "name": "stdout",
     "output_type": "stream",
     "text": [
      "\n",
      "    ### JOB DESCRIPTION:\n",
      "    {'role': 'Android Software Development Engineer', 'experience': '2+ years of experience in designing and developing Android Applications using Kotlin, Java, the Android SDK, and common Android tools and platforms like Compose, Jetpack Navigation', 'skills': ['Kotlin', 'Java', 'Android SDK', 'Android', 'Compose', 'Jetpack Navigation', 'React', 'CSS', 'VueJS', 'HTML5', 'Object-oriented development', 'Multithreading', 'Data structures'], 'description': 'Android Software Development Engineers build user interfaces, expand and improve deployment, testing and work with new technologies powered by Amazon. This is a 12-month contract role with Amazon, Bangalore.'}\n",
      "    ### INSTRUCTION:\n",
      "    You are Madhu, a business development executive at Mocha. \n",
      "    Mocha is an AI & Software Consulting company dedicated to facilitating\n",
      "    the seamless integration of business processes through automated tools. \n",
      "    Over our experience, we have empowered numerous enterprises with tailored solutions, fostering scalability, \n",
      "    process optimization, cost reduction, and heightened overall efficiency. \n",
      "    Your job is to write a cold email to the client regarding the job mentioned above describing \n",
      "    the capability of Mocha in fulfilling their needs.\n",
      "    Also add the most relevant ones from the following links to showcase Mocha's portfolio: {'https://example.com/full-stack-js-portfolio', 'https://example.com/wordpress-portfolio', 'https://example.com/ios-ar-portfolio', 'https://example.com/android-tv-portfolio', 'https://example.com/ios-portfolio', 'https://example.com/kotlin-android-portfolio', 'https://example.com/vue-portfolio', 'https://example.com/ml-python-portfolio', 'https://example.com/react-portfolio', 'https://example.com/java-portfolio'}\n",
      "    Remember you are Madhu, BDE at Mocha. \n",
      "    Do not provide a preamble.\n",
      "    ### EMAIL (NO PREAMBLE):\n",
      "    \n"
     ]
    }
   ],
   "source": [
    "print(email_prompt.format(**{\"job_description\":str(response), \"link_list\":set(relevant_portfolios)}))"
   ]
  },
  {
   "cell_type": "code",
   "execution_count": 66,
   "metadata": {},
   "outputs": [
    {
     "name": "stdout",
     "output_type": "stream",
     "text": [
      "Subject: Expert Android Software Development Services for Amazon Project\n",
      "\n",
      "Dear Hiring Manager,\n",
      "\n",
      "I came across the job description for an Android Software Development Engineer at Amazon, Bangalore, and I'm excited to introduce Mocha, a leading AI & Software Consulting company. With our expertise in designing and developing Android Applications using Kotlin, Java, and the Android SDK, I believe we can fulfill your requirements.\n",
      "\n",
      "At Mocha, we have a proven track record of delivering high-quality Android solutions. Our team of experts has extensive experience in building user interfaces, expanding and improving deployment, testing, and working with new technologies. We're well-versed in Compose, Jetpack Navigation, and other common Android tools and platforms. Our proficiency in object-oriented development, multithreading, and data structures ensures that our solutions are scalable, efficient, and meet the highest standards.\n",
      "\n",
      "I'd like to highlight some of our notable projects that demonstrate our capabilities:\n",
      "\n",
      "* https://example.com/kotlin-android-portfolio: This portfolio showcases our expertise in Kotlin-based Android app development, which aligns perfectly with your requirements.\n",
      "* https://example.com/android-tv-portfolio: Our experience in developing Android TV applications demonstrates our ability to work with various Android platforms.\n",
      "* https://example.com/java-portfolio: This portfolio highlights our proficiency in Java development, which is also a key requirement for your project.\n",
      "\n",
      "We understand the importance of meeting the 12-month contract timeline and are committed to delivering high-quality solutions within the specified timeframe. Our team is eager to collaborate with Amazon and contribute to the success of your project.\n",
      "\n",
      "If you're interested in learning more about our services and how we can support your Android software development needs, I'd be happy to schedule a call to discuss further.\n",
      "\n",
      "Please feel free to reach out to me directly. I look forward to the opportunity to work with you and explore how Mocha can help drive success for your project.\n",
      "\n",
      "Best regards,\n",
      "\n",
      "Madhu\n",
      "Business Development Executive\n",
      "Mocha\n"
     ]
    }
   ],
   "source": [
    "response = email_chain.invoke({\"job_description\":str(response), \"link_list\":set(relevant_portfolios)})\n",
    "print(response)"
   ]
  },
  {
   "cell_type": "code",
   "execution_count": 67,
   "metadata": {},
   "outputs": [
    {
     "name": "stdout",
     "output_type": "stream",
     "text": [
      "llama-3.1-8b-instant -- 131072\n",
      "llama-guard-3-8b -- 8192\n",
      "llama-3.1-70b-versatile -- 32768\n",
      "llama3-70b-8192 -- 8192\n",
      "llama3-groq-8b-8192-tool-use-preview -- 8192\n",
      "llama-3.3-70b-specdec -- 8192\n",
      "llama-3.2-90b-vision-preview -- 8192\n",
      "mixtral-8x7b-32768 -- 32768\n",
      "distil-whisper-large-v3-en -- 448\n",
      "llama-3.2-1b-preview -- 8192\n",
      "llama3-groq-70b-8192-tool-use-preview -- 8192\n",
      "llama3-8b-8192 -- 8192\n",
      "llama-3.2-3b-preview -- 8192\n",
      "gemma2-9b-it -- 8192\n",
      "llama-3.2-11b-vision-preview -- 8192\n",
      "whisper-large-v3 -- 448\n",
      "whisper-large-v3-turbo -- 448\n",
      "llama-3.3-70b-versatile -- 32768\n"
     ]
    }
   ],
   "source": [
    "api_key = GROQ_API_KEY\n",
    "url = \"https://api.groq.com/openai/v1/models\"\n",
    "\n",
    "headers = {\n",
    "    \"Authorization\": f\"Bearer {api_key}\",\n",
    "    \"Content-Type\": \"application/json\"\n",
    "}\n",
    "\n",
    "response = requests.get(url, headers=headers)\n",
    "for model in response.json()['data']:\n",
    "    print(model['id'], '--', model['context_window'])"
   ]
  }
 ],
 "metadata": {
  "kernelspec": {
   "display_name": "ragEnv",
   "language": "python",
   "name": "python3"
  },
  "language_info": {
   "codemirror_mode": {
    "name": "ipython",
    "version": 3
   },
   "file_extension": ".py",
   "mimetype": "text/x-python",
   "name": "python",
   "nbconvert_exporter": "python",
   "pygments_lexer": "ipython3",
   "version": "3.10.16"
  }
 },
 "nbformat": 4,
 "nbformat_minor": 2
}
